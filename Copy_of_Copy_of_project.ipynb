{
  "nbformat": 4,
  "nbformat_minor": 0,
  "metadata": {
    "kernelspec": {
      "display_name": "Python 3",
      "language": "python",
      "name": "python3"
    },
    "language_info": {
      "codemirror_mode": {
        "name": "ipython",
        "version": 3
      },
      "file_extension": ".py",
      "mimetype": "text/x-python",
      "name": "python",
      "nbconvert_exporter": "python",
      "pygments_lexer": "ipython3",
      "version": "3.6.6"
    },
    "colab": {
      "name": "Copy of Copy of project.ipynb",
      "provenance": [],
      "collapsed_sections": [],
      "toc_visible": true,
      "include_colab_link": true
    }
  },
  "cells": [
    {
      "cell_type": "markdown",
      "metadata": {
        "id": "view-in-github",
        "colab_type": "text"
      },
      "source": [
        "<a href=\"https://colab.research.google.com/github/zchuning/PublicSchoolDataAnalysis/blob/master/Copy_of_Copy_of_project.ipynb\" target=\"_parent\"><img src=\"https://colab.research.google.com/assets/colab-badge.svg\" alt=\"Open In Colab\"/></a>"
      ]
    },
    {
      "cell_type": "markdown",
      "metadata": {
        "id": "OoLPpgWOHJqf",
        "colab_type": "text"
      },
      "source": [
        "# Setup and Data Loading\n",
        "\n"
      ]
    },
    {
      "cell_type": "code",
      "metadata": {
        "id": "H62Exv7xHIjk",
        "colab_type": "code",
        "outputId": "03dfb856-bae0-4df5-9bdc-8f7c168a554e",
        "colab": {
          "base_uri": "https://localhost:8080/",
          "height": 218
        }
      },
      "source": [
        "!pip install numpy\n",
        "!pip install pandas\n",
        "!pip install scipy\n",
        "!pip install scikit-learn"
      ],
      "execution_count": 0,
      "outputs": [
        {
          "output_type": "stream",
          "text": [
            "Requirement already satisfied: numpy in /usr/local/lib/python3.6/dist-packages (1.17.4)\n",
            "Requirement already satisfied: pandas in /usr/local/lib/python3.6/dist-packages (0.25.3)\n",
            "Requirement already satisfied: numpy>=1.13.3 in /usr/local/lib/python3.6/dist-packages (from pandas) (1.17.4)\n",
            "Requirement already satisfied: pytz>=2017.2 in /usr/local/lib/python3.6/dist-packages (from pandas) (2018.9)\n",
            "Requirement already satisfied: python-dateutil>=2.6.1 in /usr/local/lib/python3.6/dist-packages (from pandas) (2.6.1)\n",
            "Requirement already satisfied: six>=1.5 in /usr/local/lib/python3.6/dist-packages (from python-dateutil>=2.6.1->pandas) (1.12.0)\n",
            "Requirement already satisfied: scipy in /usr/local/lib/python3.6/dist-packages (1.3.2)\n",
            "Requirement already satisfied: numpy>=1.13.3 in /usr/local/lib/python3.6/dist-packages (from scipy) (1.17.4)\n",
            "Requirement already satisfied: scikit-learn in /usr/local/lib/python3.6/dist-packages (0.21.3)\n",
            "Requirement already satisfied: scipy>=0.17.0 in /usr/local/lib/python3.6/dist-packages (from scikit-learn) (1.3.2)\n",
            "Requirement already satisfied: numpy>=1.11.0 in /usr/local/lib/python3.6/dist-packages (from scikit-learn) (1.17.4)\n",
            "Requirement already satisfied: joblib>=0.11 in /usr/local/lib/python3.6/dist-packages (from scikit-learn) (0.14.0)\n"
          ],
          "name": "stdout"
        }
      ]
    },
    {
      "cell_type": "markdown",
      "metadata": {
        "id": "ZKn8RYU3MYLp",
        "colab_type": "text"
      },
      "source": [
        "### Loading data into collab\n",
        "\n",
        "1.   Open the file browsing menu by clicking on the tab with a right pointing\n",
        "arrow.\n",
        "2.   Navigate to each directories parent until you reach the root.\n",
        "3.   Upload \"MA_Public_Schools_2017.csv\" and \"MA_Public_Schools_datadict.csv\".\n",
        "4.   Run the code blocks below.\n",
        "\n"
      ]
    },
    {
      "cell_type": "code",
      "metadata": {
        "_cell_guid": "b1076dfc-b9ad-4769-8c92-a6c4dae69d19",
        "_uuid": "8f2839f25d086af736a60e9eeb907d3b93b6e0e5",
        "id": "maj1d7OnGEe7",
        "colab_type": "code",
        "colab": {}
      },
      "source": [
        "# Relevant module imports are all located here.\n",
        "import numpy as np\n",
        "import pandas as pd\n",
        "import random\n",
        "import matplotlib.pyplot as plt\n",
        "from sklearn.linear_model import LinearRegression\n",
        "from scipy.io import arff\n",
        "from sklearn.ensemble import RandomForestClassifier\n",
        "from sklearn.neighbors import KNeighborsClassifier\n",
        "from sklearn.linear_model import LogisticRegression\n",
        "from sklearn.svm import SVC\n",
        "from sklearn.metrics import precision_score, accuracy_score, classification_report"
      ],
      "execution_count": 0,
      "outputs": []
    },
    {
      "cell_type": "code",
      "metadata": {
        "_cell_guid": "79c7e3d0-c299-4dcb-8224-4455121ee9b0",
        "_uuid": "d629ff2d2480ee46fbb7e2d37f6b5fab8052498a",
        "id": "mT6omahLGEfC",
        "colab_type": "code",
        "colab": {}
      },
      "source": [
        "# Load the bankruptcy data into two pandas dataframes\n",
        "data, meta = arff.loadarff('/2year.arff')\n",
        "data = np.array(data.tolist(), np.float)\n",
        "\n",
        "X = data[:, :-1]\n",
        "y = data[:, -1]"
      ],
      "execution_count": 0,
      "outputs": []
    },
    {
      "cell_type": "code",
      "metadata": {
        "id": "oU-Kf47nHIjw",
        "colab_type": "code",
        "outputId": "30cfafb1-b49c-4443-e943-a94cac81872c",
        "colab": {
          "base_uri": "https://localhost:8080/",
          "height": 34
        }
      },
      "source": [
        "X.shape"
      ],
      "execution_count": 0,
      "outputs": [
        {
          "output_type": "execute_result",
          "data": {
            "text/plain": [
              "(10173, 64)"
            ]
          },
          "metadata": {
            "tags": []
          },
          "execution_count": 20
        }
      ]
    },
    {
      "cell_type": "markdown",
      "metadata": {
        "id": "ezNf9db8NmFI",
        "colab_type": "text"
      },
      "source": [
        "# Data Imputation"
      ]
    },
    {
      "cell_type": "code",
      "metadata": {
        "id": "GUVvMugnNn7p",
        "colab_type": "code",
        "colab": {}
      },
      "source": [
        "# Zero imputation function\n",
        "def zeroImpute(X_miss):\n",
        "  '''\n",
        "  Returns :\n",
        "  X_imputed which has zeroes instead of missing values and same shape as X_miss.\n",
        "  '''\n",
        "  return np.nan_to_num(X_miss.copy())"
      ],
      "execution_count": 0,
      "outputs": []
    },
    {
      "cell_type": "code",
      "metadata": {
        "id": "x8izTWw4N6v8",
        "colab_type": "code",
        "colab": {}
      },
      "source": [
        "# Regression imputation function\n",
        "def regressedImpute(X_baseImputed, X_miss):\n",
        "  '''\n",
        "  Returns :\n",
        "    X_imputed which has mean of the linearly regressed value instead of the missing values and same shape as X_miss.\n",
        "  if computePerFeatureStatistics is True, also:\n",
        "    list of Frobenius norms of difference between reconstructions and original data (without missing values) calculated after each imputing each column.\n",
        "    list of accuracies on test set of Logistic Regression classifier trained on imputed data after each imputing each column.\n",
        "  '''\n",
        "  X_imputed = X_baseImputed.copy()\n",
        "  # We do a linear regression based imputation here, for each column, train a \n",
        "  # classifier to predict its value based on values of other features and\n",
        "  # replace the NaN with the predicted values. \n",
        "\n",
        "  for j in range(X_baseImputed.shape[1]):\n",
        "    # Build model for current column\n",
        "    selector = [x for x in range(X_baseImputed.shape[1]) if x != j]\n",
        "    X_filtered = X_baseImputed[~np.isnan(X_miss[:,j])]\n",
        "    y_filtered = X_filtered[:,j]\n",
        "    X_filtered = X_filtered[:, selector]\n",
        "    col_clf = LinearRegression().fit(X_filtered, y_filtered)\n",
        "\n",
        "    # Replace X_imputed with new values using new model\n",
        "    for i in range(X_miss.shape[0]):\n",
        "      if np.isnan(X_miss[i, j]):\n",
        "        X_imputed[i, j] =\\\n",
        "          col_clf.predict(X_baseImputed[i, selector].reshape(1, -1))\n",
        "  \n",
        "  return X_imputed"
      ],
      "execution_count": 0,
      "outputs": []
    },
    {
      "cell_type": "code",
      "metadata": {
        "id": "uxWCWt9gRHir",
        "colab_type": "code",
        "colab": {}
      },
      "source": [
        "# Epoch regression imputation\n",
        "def impute(X_miss, epochs=2):\n",
        "  X_imputed = zeroImpute(X_miss.copy())\n",
        "  for _ in range(epochs):\n",
        "    X_imputed = regressedImpute(X_imputed, X_miss)\n",
        "  return X_imputed"
      ],
      "execution_count": 0,
      "outputs": []
    },
    {
      "cell_type": "code",
      "metadata": {
        "id": "OXTYQtUamEHY",
        "colab_type": "code",
        "colab": {}
      },
      "source": [
        "X_imputed = impute(X)"
      ],
      "execution_count": 0,
      "outputs": []
    },
    {
      "cell_type": "code",
      "metadata": {
        "id": "6o03wvjqnjv5",
        "colab_type": "code",
        "colab": {}
      },
      "source": [
        "X_pos = X_imputed[y == 1]\n",
        "y_pos = y[y == 1]\n",
        "X_neg = X_imputed[y == 0]\n",
        "y_neg = y[y == 0]\n",
        "\n",
        "# pos_split = int(len(y_pos) * 0.7)\n",
        "# neg_split = int(len(y_neg) * 0.7)\n",
        "\n",
        "# X_train = np.concatenate((X_neg[:neg_split], X_pos[:pos_split]))\n",
        "# y_train = np.concatenate((y_neg[:neg_split], y_pos[:pos_split]))\n",
        "\n",
        "# X_test = np.concatenate((X_neg[neg_split:], X_pos[pos_split:]))\n",
        "# y_test = np.concatenate((y_neg[neg_split:], y_pos[pos_split:]))"
      ],
      "execution_count": 0,
      "outputs": []
    },
    {
      "cell_type": "code",
      "metadata": {
        "id": "a1uW-jiJxCaL",
        "colab_type": "code",
        "colab": {}
      },
      "source": [
        "indices = random.sample(range(1, len(X_neg)-1), 800)\n",
        "X_neg = X_neg[indices]\n",
        "y_neg = y_neg[indices]\n",
        "\n",
        "pos_split = int(len(y_pos) * 0.7)\n",
        "neg_split = int(len(y_neg) * 0.7)\n",
        "\n",
        "X_train = np.concatenate((X_neg[:neg_split], X_pos[:pos_split]))\n",
        "y_train = np.concatenate((y_neg[:neg_split], y_pos[:pos_split]))\n",
        "\n",
        "X_test = np.concatenate((X_neg[neg_split:], X_pos[pos_split:]))\n",
        "y_test = np.concatenate((y_neg[neg_split:], y_pos[pos_split:]))"
      ],
      "execution_count": 0,
      "outputs": []
    },
    {
      "cell_type": "code",
      "metadata": {
        "id": "2W1MqtbK4V7O",
        "colab_type": "code",
        "colab": {}
      },
      "source": [
        "def plot_line_graph(x_vals, y_vals_1, y_vals_2, y_vals_1_label, y_vals_2_label, x_axis_label, y_axis_label, title):\n",
        "    \"\"\"\n",
        "    Plots a line graph of two lines of different values with common x-values\n",
        "\n",
        "    Args:\n",
        "    x_vals ((j,) list): Values to be displayed on horizontal axis, where j is number of values\n",
        "    y_vals_1 ((j,) list): First set of values to be graphed on a line in respect to x_vals, where j is number of values\n",
        "    y_vals_2 ((j,) list): Second set of values to be graphed on a line in respect to x_vals, where j is number of values\n",
        "    y_vals_1_label (string): Label for first set of y values\n",
        "    y_vals_2_label (string): Label for second set of y values\n",
        "    x_axis_label (string): Label for x axis\n",
        "    y_axis_label (string): Label for y axis\n",
        "    title (string): Plot title\n",
        "    \"\"\" \n",
        "\n",
        "    plt.plot(x_vals, y_vals_1, color='g', label=y_vals_1_label)\n",
        "    plt.plot(x_vals, y_vals_2, color='orange', label=y_vals_2_label)\n",
        "    plt.xlabel(x_axis_label)\n",
        "    plt.ylabel(y_axis_label)\n",
        "    plt.title(title)\n",
        "    plt.legend(loc='upper right')\n",
        "    plt.show()"
      ],
      "execution_count": 0,
      "outputs": []
    },
    {
      "cell_type": "code",
      "metadata": {
        "id": "htdnjb9lzJl8",
        "colab_type": "code",
        "outputId": "8da9e43d-6f26-43fe-ec1b-2990fd2969fc",
        "colab": {
          "base_uri": "https://localhost:8080/",
          "height": 168
        }
      },
      "source": [
        "n_estimators = [5, 10, 25, 50, 75, 100, 125, 150]\n",
        "accuracies = []\n",
        "precisions = []\n",
        "\n",
        "print(\"<<<<TEST DATA PREDICTIONS FOR RANDOM FOREST>>>>\")\n",
        "\n",
        "for i in range(len(n_estimators)):\n",
        "  clf = RandomForestClassifier(n_estimators=n_estimators[i], max_depth=6)\n",
        "  clf.fit(X_train, y_train)\n",
        "  y_pred = clf.predict(X_test)\n",
        "  accScore = accuracy_score(y_test, y_pred)\n",
        "  accuracies.append(accScore)\n",
        "  precScore = precision_score(y_test, y_pred)\n",
        "  precisions.append(precScore)\n",
        "  print(\"# Estimators: \" + str(n_estimators[i]) + \", Accuracy: \" + str(accScore) + \", Precision: \" + str(precScore))"
      ],
      "execution_count": 0,
      "outputs": [
        {
          "output_type": "stream",
          "text": [
            "<<<<TEST DATA PREDICTIONS FOR RANDOM FOREST>>>>\n",
            "# Estimators: 5, Accuracy: 0.7361111111111112, Precision: 0.654320987654321\n",
            "# Estimators: 10, Accuracy: 0.7805555555555556, Precision: 0.7662337662337663\n",
            "# Estimators: 25, Accuracy: 0.7666666666666667, Precision: 0.78125\n",
            "# Estimators: 50, Accuracy: 0.7666666666666667, Precision: 0.7903225806451613\n",
            "# Estimators: 75, Accuracy: 0.7638888888888888, Precision: 0.7611940298507462\n",
            "# Estimators: 100, Accuracy: 0.7694444444444445, Precision: 0.7681159420289855\n",
            "# Estimators: 125, Accuracy: 0.7638888888888888, Precision: 0.7777777777777778\n",
            "# Estimators: 150, Accuracy: 0.7638888888888888, Precision: 0.7536231884057971\n"
          ],
          "name": "stdout"
        }
      ]
    },
    {
      "cell_type": "code",
      "metadata": {
        "id": "Ofyp9Xos8LdC",
        "colab_type": "code",
        "outputId": "164c5007-8840-44b9-e30d-6076fcae5e11",
        "colab": {
          "base_uri": "https://localhost:8080/",
          "height": 295
        }
      },
      "source": [
        "plot_line_graph(n_estimators, accuracies, precisions, \"Accuracy\", \"Precision\", \"# Estimators\", \"score\", \"Precision and Accuracy vs. Number of Estimators\")"
      ],
      "execution_count": 0,
      "outputs": [
        {
          "output_type": "display_data",
          "data": {
            "image/png": "[encoded data removed]",
            "text/plain": [
              "<Figure size 432x288 with 1 Axes>"
            ]
          },
          "metadata": {
            "tags": []
          }
        }
      ]
    },
    {
      "cell_type": "code",
      "metadata": {
        "id": "BjRA8X_h1I9E",
        "colab_type": "code",
        "outputId": "c5bf26dc-09ae-45b8-9f72-966f83158c4a",
        "colab": {
          "base_uri": "https://localhost:8080/",
          "height": 319
        }
      },
      "source": [
        "K = [1,3,5,7,9,11,13,15,17,19,21,23,25,27,29,31,33]\n",
        "accuracies = []\n",
        "precisions = []\n",
        "print(\"<<<<TEST DATA PREDICTIONS FOR KNN>>>>\")\n",
        "\n",
        "for i in range(len(K)):\n",
        "  neigh = KNeighborsClassifier(n_neighbors=K[i], p=2)\n",
        "  neigh.fit(X_train, y_train)\n",
        "  y_pred = neigh.predict(X_test)\n",
        "  accScore = accuracy_score(y_test, y_pred)\n",
        "  accuracies.append(accScore)\n",
        "  precScore = precision_score(y_test, y_pred)\n",
        "  precisions.append(precScore)\n",
        "  print(\"K: \" + str(K[i]) + \", Accuracy: \" + str(accScore) + \", Precision: \" + str(precScore))"
      ],
      "execution_count": 0,
      "outputs": [
        {
          "output_type": "stream",
          "text": [
            "<<<<TEST DATA PREDICTIONS FOR KNN>>>>\n",
            "K: 1, Accuracy: 0.6083333333333333, Precision: 0.6140350877192983\n",
            "K: 3, Accuracy: 0.6458333333333334, Precision: 0.6548672566371682\n",
            "K: 5, Accuracy: 0.6291666666666667, Precision: 0.6347826086956522\n",
            "K: 7, Accuracy: 0.6208333333333333, Precision: 0.6283185840707964\n",
            "K: 9, Accuracy: 0.6333333333333333, Precision: 0.6538461538461539\n",
            "K: 11, Accuracy: 0.6375, Precision: 0.6460176991150443\n",
            "K: 13, Accuracy: 0.625, Precision: 0.6339285714285714\n",
            "K: 15, Accuracy: 0.6583333333333333, Precision: 0.6583333333333333\n",
            "K: 17, Accuracy: 0.6541666666666667, Precision: 0.6581196581196581\n",
            "K: 19, Accuracy: 0.6375, Precision: 0.6386554621848739\n",
            "K: 21, Accuracy: 0.6333333333333333, Precision: 0.6379310344827587\n",
            "K: 23, Accuracy: 0.6333333333333333, Precision: 0.6428571428571429\n",
            "K: 25, Accuracy: 0.6375, Precision: 0.6513761467889908\n",
            "K: 27, Accuracy: 0.65, Precision: 0.6551724137931034\n",
            "K: 29, Accuracy: 0.6375, Precision: 0.6386554621848739\n",
            "K: 31, Accuracy: 0.6416666666666667, Precision: 0.646551724137931\n",
            "K: 33, Accuracy: 0.6375, Precision: 0.6410256410256411\n"
          ],
          "name": "stdout"
        }
      ]
    },
    {
      "cell_type": "code",
      "metadata": {
        "id": "HI4suDce0z46",
        "colab_type": "code",
        "outputId": "adc6c00c-092f-4f96-e36e-827bc6a99e54",
        "colab": {
          "base_uri": "https://localhost:8080/",
          "height": 295
        }
      },
      "source": [
        "plot_line_graph(K, accuracies, precisions, \"Accuracy\", \"Precision\", \"K\", \"score\", \"Precision and Accuracy vs. K-values\")"
      ],
      "execution_count": 0,
      "outputs": [
        {
          "output_type": "display_data",
          "data": {
            "image/png": "[encoded data removed]",
            "text/plain": [
              "<Figure size 432x288 with 1 Axes>"
            ]
          },
          "metadata": {
            "tags": []
          }
        }
      ]
    },
    {
      "cell_type": "code",
      "metadata": {
        "id": "aFa3VWpN9cmo",
        "colab_type": "code",
        "outputId": "505418e0-d449-4fda-8dde-64f19baa8bcf",
        "colab": {
          "base_uri": "https://localhost:8080/",
          "height": 138
        }
      },
      "source": [
        "cls = LogisticRegression()\n",
        "cls.fit(X_train, y_train)\n",
        "y_pred = cls.predict(X_test)\n",
        "accuracy = accuracy_score(y_test, y_pred)\n",
        "precision = precision_score(y_test, y_pred)\n",
        "\n",
        "print(\"<<<<TEST DATA PREDICTIONS FOR LOGISTIC REGRESSION>>>>\")\n",
        "print(\"Accuracy: \" + str(accuracy) + \", Precision: \" + str(precision))"
      ],
      "execution_count": 0,
      "outputs": [
        {
          "output_type": "stream",
          "text": [
            "<<<<TEST DATA PREDICTIONS FOR LOGISTIC REGRESSION>>>>\n",
            "Accuracy: 0.6583333333333333, Precision: 0.6938775510204082\n"
          ],
          "name": "stdout"
        },
        {
          "output_type": "stream",
          "text": [
            "/usr/local/lib/python3.6/dist-packages/sklearn/linear_model/logistic.py:432: FutureWarning: Default solver will be changed to 'lbfgs' in 0.22. Specify a solver to silence this warning.\n",
            "  FutureWarning)\n",
            "/usr/local/lib/python3.6/dist-packages/sklearn/svm/base.py:929: ConvergenceWarning: Liblinear failed to converge, increase the number of iterations.\n",
            "  \"the number of iterations.\", ConvergenceWarning)\n"
          ],
          "name": "stderr"
        }
      ]
    },
    {
      "cell_type": "code",
      "metadata": {
        "id": "lHRClLc4Arvy",
        "colab_type": "code",
        "outputId": "1753fcea-7f95-4bbf-e742-cfc54e849f13",
        "colab": {
          "base_uri": "https://localhost:8080/",
          "height": 104
        }
      },
      "source": [
        "cls = SVC(gamma='auto')\n",
        "cls.fit(X_train, y_train)\n",
        "y_pred = cls.predict(X_test)\n",
        "accuracy = accuracy_score(y_test, y_pred)\n",
        "precision = precision_score(y_test, y_pred)\n",
        "\n",
        "print(\"<<<<TEST DATA PREDICTIONS FOR SVM RBF KERNAL>>>>\")\n",
        "print(\"Accuracy: \" + str(accuracy) + \", Precision: \" + str(precision))"
      ],
      "execution_count": 0,
      "outputs": [
        {
          "output_type": "stream",
          "text": [
            "<<<<TEST DATA PREDICTIONS FOR SVM RBF KERNAL>>>>\n",
            "Accuracy: 0.5, Precision: 0.0\n"
          ],
          "name": "stdout"
        },
        {
          "output_type": "stream",
          "text": [
            "/usr/local/lib/python3.6/dist-packages/sklearn/metrics/classification.py:1437: UndefinedMetricWarning: Precision is ill-defined and being set to 0.0 due to no predicted samples.\n",
            "  'precision', 'predicted', average, warn_for)\n"
          ],
          "name": "stderr"
        }
      ]
    }
  ]
}