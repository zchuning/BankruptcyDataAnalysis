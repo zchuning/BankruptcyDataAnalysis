{
  "nbformat": 4,
  "nbformat_minor": 0,
  "metadata": {
    "kernelspec": {
      "display_name": "Python 3",
      "language": "python",
      "name": "python3"
    },
    "language_info": {
      "codemirror_mode": {
        "name": "ipython",
        "version": 3
      },
      "file_extension": ".py",
      "mimetype": "text/x-python",
      "name": "python",
      "nbconvert_exporter": "python",
      "pygments_lexer": "ipython3",
      "version": "3.6.6"
    },
    "colab": {
      "name": "Copy of project.ipynb",
      "provenance": [],
      "collapsed_sections": [],
      "toc_visible": true,
      "include_colab_link": true
    }
  },
  "cells": [
    {
      "cell_type": "markdown",
      "metadata": {
        "id": "view-in-github",
        "colab_type": "text"
      },
      "source": [
        "<a href=\"https://colab.research.google.com/github/zchuning/PublicSchoolDataAnalysis/blob/master/project_bankruptcy.ipynb\" target=\"_parent\"><img src=\"https://colab.research.google.com/assets/colab-badge.svg\" alt=\"Open In Colab\"/></a>"
      ]
    },
    {
      "cell_type": "markdown",
      "metadata": {
        "id": "OoLPpgWOHJqf",
        "colab_type": "text"
      },
      "source": [
        "# Setup and Data Loading\n",
        "\n"
      ]
    },
    {
      "cell_type": "code",
      "metadata": {
        "id": "H62Exv7xHIjk",
        "colab_type": "code",
        "outputId": "bf525d0e-2aa8-4c82-8055-761df52f963f",
        "colab": {
          "base_uri": "https://localhost:8080/",
          "height": 245
        }
      },
      "source": [
        "!pip install numpy\n",
        "!pip install pandas\n",
        "!pip install scipy\n",
        "!pip install scikit-learn"
      ],
      "execution_count": 1,
      "outputs": [
        {
          "output_type": "stream",
          "text": [
            "Requirement already satisfied: numpy in /usr/local/lib/python3.6/dist-packages (1.17.4)\n",
            "Requirement already satisfied: pandas in /usr/local/lib/python3.6/dist-packages (0.25.3)\n",
            "Requirement already satisfied: python-dateutil>=2.6.1 in /usr/local/lib/python3.6/dist-packages (from pandas) (2.6.1)\n",
            "Requirement already satisfied: numpy>=1.13.3 in /usr/local/lib/python3.6/dist-packages (from pandas) (1.17.4)\n",
            "Requirement already satisfied: pytz>=2017.2 in /usr/local/lib/python3.6/dist-packages (from pandas) (2018.9)\n",
            "Requirement already satisfied: six>=1.5 in /usr/local/lib/python3.6/dist-packages (from python-dateutil>=2.6.1->pandas) (1.12.0)\n",
            "Requirement already satisfied: scipy in /usr/local/lib/python3.6/dist-packages (1.3.2)\n",
            "Requirement already satisfied: numpy>=1.13.3 in /usr/local/lib/python3.6/dist-packages (from scipy) (1.17.4)\n",
            "Requirement already satisfied: scikit-learn in /usr/local/lib/python3.6/dist-packages (0.21.3)\n",
            "Requirement already satisfied: scipy>=0.17.0 in /usr/local/lib/python3.6/dist-packages (from scikit-learn) (1.3.2)\n",
            "Requirement already satisfied: joblib>=0.11 in /usr/local/lib/python3.6/dist-packages (from scikit-learn) (0.14.0)\n",
            "Requirement already satisfied: numpy>=1.11.0 in /usr/local/lib/python3.6/dist-packages (from scikit-learn) (1.17.4)\n"
          ],
          "name": "stdout"
        }
      ]
    },
    {
      "cell_type": "markdown",
      "metadata": {
        "id": "ZKn8RYU3MYLp",
        "colab_type": "text"
      },
      "source": [
        "### Loading data into collab\n",
        "\n",
        "1.   Open the file browsing menu by clicking on the tab with a right pointing\n",
        "arrow.\n",
        "2.   Navigate to each directories parent until you reach the root.\n",
        "3.   Upload \"MA_Public_Schools_2017.csv\" and \"MA_Public_Schools_datadict.csv\".\n",
        "4.   Run the code blocks below.\n",
        "\n"
      ]
    },
    {
      "cell_type": "code",
      "metadata": {
        "_cell_guid": "b1076dfc-b9ad-4769-8c92-a6c4dae69d19",
        "_uuid": "8f2839f25d086af736a60e9eeb907d3b93b6e0e5",
        "id": "maj1d7OnGEe7",
        "colab_type": "code",
        "colab": {}
      },
      "source": [
        "# Relevant module imports are all located here.\n",
        "import numpy as np\n",
        "import pandas as pd\n",
        "from sklearn.linear_model import LinearRegression\n",
        "from scipy.io import arff"
      ],
      "execution_count": 0,
      "outputs": []
    },
    {
      "cell_type": "code",
      "metadata": {
        "_cell_guid": "79c7e3d0-c299-4dcb-8224-4455121ee9b0",
        "_uuid": "d629ff2d2480ee46fbb7e2d37f6b5fab8052498a",
        "id": "mT6omahLGEfC",
        "colab_type": "code",
        "colab": {}
      },
      "source": [
        "# Load the bankruptcy data into two pandas dataframes\n",
        "data, meta = arff.loadarff('/2year.arff')\n",
        "data = np.array(data.tolist(), np.float)\n",
        "\n",
        "X = data[:, :-1]\n",
        "y = data[:, -1]"
      ],
      "execution_count": 0,
      "outputs": []
    },
    {
      "cell_type": "markdown",
      "metadata": {
        "id": "ezNf9db8NmFI",
        "colab_type": "text"
      },
      "source": [
        "# Data Imputation"
      ]
    },
    {
      "cell_type": "code",
      "metadata": {
        "id": "GUVvMugnNn7p",
        "colab_type": "code",
        "colab": {}
      },
      "source": [
        "# Zero imputation function\n",
        "def zeroImpute(X_miss):\n",
        "  '''\n",
        "  Returns :\n",
        "  X_imputed which has zeroes instead of missing values and same shape as X_miss.\n",
        "  '''\n",
        "  return np.nan_to_num(X_miss.copy())"
      ],
      "execution_count": 0,
      "outputs": []
    },
    {
      "cell_type": "code",
      "metadata": {
        "id": "x8izTWw4N6v8",
        "colab_type": "code",
        "colab": {}
      },
      "source": [
        "# Regression imputation function\n",
        "def regressedImpute(X_baseImputed, X_miss):\n",
        "  '''\n",
        "  Returns :\n",
        "    X_imputed which has mean of the linearly regressed value instead of the missing values and same shape as X_miss.\n",
        "  if computePerFeatureStatistics is True, also:\n",
        "    list of Frobenius norms of difference between reconstructions and original data (without missing values) calculated after each imputing each column.\n",
        "    list of accuracies on test set of Logistic Regression classifier trained on imputed data after each imputing each column.\n",
        "  '''\n",
        "  X_imputed = X_baseImputed.copy()\n",
        "  # We do a linear regression based imputation here, for each column, train a \n",
        "  # classifier to predict its value based on values of other features and\n",
        "  # replace the NaN with the predicted values. \n",
        "\n",
        "  for j in range(X_baseImputed.shape[1]):\n",
        "    # Build model for current column\n",
        "    selector = [x for x in range(X_baseImputed.shape[1]) if x != j]\n",
        "    X_filtered = X_baseImputed[~np.isnan(X_miss[:,j])]\n",
        "    y_filtered = X_filtered[:,j]\n",
        "    X_filtered = X_filtered[:, selector]\n",
        "    col_clf = LinearRegression().fit(X_filtered, y_filtered)\n",
        "\n",
        "    # Replace X_imputed with new values using new model\n",
        "    for i in range(X_miss.shape[0]):\n",
        "      if np.isnan(X_miss[i, j]):\n",
        "        X_imputed[i, j] =\\\n",
        "          col_clf.predict(X_baseImputed[i, selector].reshape(1, -1))\n",
        "  \n",
        "  return X_imputed"
      ],
      "execution_count": 0,
      "outputs": []
    },
    {
      "cell_type": "code",
      "metadata": {
        "id": "uxWCWt9gRHir",
        "colab_type": "code",
        "colab": {}
      },
      "source": [
        "# Epoch regression imputation\n",
        "def impute(X_miss, epochs=2):\n",
        "  X_imputed = zeroImpute(X_miss.copy())\n",
        "  for _ in range(epochs):\n",
        "    X_imputed = regressedImpute(X_imputed, X_miss)\n",
        "  return X_imputed"
      ],
      "execution_count": 0,
      "outputs": []
    },
    {
      "cell_type": "code",
      "metadata": {
        "id": "OXTYQtUamEHY",
        "colab_type": "code",
        "colab": {}
      },
      "source": [
        "X_imputed = impute(X)"
      ],
      "execution_count": 0,
      "outputs": []
    },
    {
      "cell_type": "code",
      "metadata": {
        "id": "6o03wvjqnjv5",
        "colab_type": "code",
        "colab": {}
      },
      "source": [
        "X_pos = X[y == 1]\n",
        "y_pos = y[y == 1]\n",
        "X_neg = X[y == 0]\n",
        "y_neg = y[y == 0]\n",
        "\n",
        "pos_split = int(len(y_pos) * 0.7)\n",
        "neg_split = int(len(y_neg) * 0.7)\n",
        "\n",
        "X_train = np.concatenate((X_neg[:neg_split], X_pos[:pos_split]))\n",
        "y_train = np.concatenate((y_neg[:neg_split], y_pos[:pos_split]))\n",
        "\n",
        "X_test = np.concatenate((X_neg[neg_split:], X_pos[pos_split:]))\n",
        "y_test = np.concatenate((y_neg[neg_split:], y_pos[pos_split:]))"
      ],
      "execution_count": 0,
      "outputs": []
    }
  ]
}